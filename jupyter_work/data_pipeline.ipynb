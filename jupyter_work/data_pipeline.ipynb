{
 "cells": [
  {
   "cell_type": "code",
   "execution_count": null,
   "id": "8aef5b1c-c5cb-479c-8359-c05e27df1591",
   "metadata": {},
   "outputs": [],
   "source": [
    "!pip install tensorflow tensorflow_data_validation tensorflow_transform ml-metadata"
   ]
  },
  {
   "cell_type": "code",
   "execution_count": 1,
   "id": "58a9c3da-3754-47aa-a4e2-353048ec7253",
   "metadata": {},
   "outputs": [
    {
     "name": "stderr",
     "output_type": "stream",
     "text": [
      "2025-03-05 21:00:58.277812: I tensorflow/core/util/port.cc:113] oneDNN custom operations are on. You may see slightly different numerical results due to floating-point round-off errors from different computation orders. To turn them off, set the environment variable `TF_ENABLE_ONEDNN_OPTS=0`.\n",
      "2025-03-05 21:00:58.285368: I external/local_tsl/tsl/cuda/cudart_stub.cc:32] Could not find cuda drivers on your machine, GPU will not be used.\n",
      "2025-03-05 21:00:58.330253: I external/local_tsl/tsl/cuda/cudart_stub.cc:32] Could not find cuda drivers on your machine, GPU will not be used.\n",
      "2025-03-05 21:00:58.393140: E external/local_xla/xla/stream_executor/cuda/cuda_fft.cc:479] Unable to register cuFFT factory: Attempting to register factory for plugin cuFFT when one has already been registered\n",
      "2025-03-05 21:00:58.473677: E external/local_xla/xla/stream_executor/cuda/cuda_dnn.cc:10575] Unable to register cuDNN factory: Attempting to register factory for plugin cuDNN when one has already been registered\n",
      "2025-03-05 21:00:58.474071: E external/local_xla/xla/stream_executor/cuda/cuda_blas.cc:1442] Unable to register cuBLAS factory: Attempting to register factory for plugin cuBLAS when one has already been registered\n",
      "2025-03-05 21:00:58.560655: I tensorflow/core/platform/cpu_feature_guard.cc:210] This TensorFlow binary is optimized to use available CPU instructions in performance-critical operations.\n",
      "To enable the following instructions: AVX2 AVX_VNNI FMA, in other operations, rebuild TensorFlow with the appropriate compiler flags.\n",
      "2025-03-05 21:01:00.059589: W tensorflow/compiler/tf2tensorrt/utils/py_utils.cc:38] TF-TRT Warning: Could not find TensorRT\n"
     ]
    }
   ],
   "source": [
    "import pandas as pd\n",
    "import tensorflow_data_validation as tfdv\n",
    "import tensorflow_transform as tft\n",
    "from sklearn.model_selection import train_test_split"
   ]
  },
  {
   "cell_type": "code",
   "execution_count": 4,
   "id": "131fc05a-bad6-4b90-a779-b437d3436790",
   "metadata": {},
   "outputs": [
    {
     "name": "stdout",
     "output_type": "stream",
     "text": [
      "Dataset cargado correctamente.\n"
     ]
    }
   ],
   "source": [
    "# 1. Carga de dataset\n",
    "df = pd.read_csv(\"./data/covertype/covertype_train.csv\")\n",
    "print(\"Dataset cargado!\")"
   ]
  },
  {
   "cell_type": "code",
   "execution_count": 5,
   "id": "fff7c3db-79bb-434c-ba60-d564ca750a6c",
   "metadata": {},
   "outputs": [
    {
     "data": {
      "text/html": [
       "<iframe id='facets-iframe' width=\"100%\" height=\"500px\"></iframe>\n",
       "        <script>\n",
       "        facets_iframe = document.getElementById('facets-iframe');\n",
       "        facets_html = '<script src=\"https://cdnjs.cloudflare.com/ajax/libs/webcomponentsjs/1.3.3/webcomponents-lite.js\"><\\/script><link rel=\"import\" href=\"https://raw.githubusercontent.com/PAIR-code/facets/master/facets-dist/facets-jupyter.html\"><facets-overview proto-input=\"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\"></facets-overview>';\n",
       "        facets_iframe.srcdoc = facets_html;\n",
       "         facets_iframe.id = \"\";\n",
       "         setTimeout(() => {\n",
       "           facets_iframe.setAttribute('height', facets_iframe.contentWindow.document.body.offsetHeight + 'px')\n",
       "         }, 1500)\n",
       "         </script>"
      ],
      "text/plain": [
       "<IPython.core.display.HTML object>"
      ]
     },
     "metadata": {},
     "output_type": "display_data"
    },
    {
     "name": "stdout",
     "output_type": "stream",
     "text": [
      "Estadísticas generadas y visualizadas.\n"
     ]
    }
   ],
   "source": [
    "# 2. Estadísticas de los datos\n",
    "stats = tfdv.generate_statistics_from_dataframe(df)\n",
    "tfdv.visualize_statistics(stats)\n",
    "print(\"Estadísticas generadas!\")"
   ]
  },
  {
   "cell_type": "code",
   "execution_count": 6,
   "id": "1f41be05-1ad3-41d3-811e-ff8ea5b28c87",
   "metadata": {},
   "outputs": [
    {
     "name": "stdout",
     "output_type": "stream",
     "text": [
      "Dataset dividido en conjunto de entrenamiento y prueba.\n"
     ]
    }
   ],
   "source": [
    "# 3. Dividir el dataset en entrenamiento y prueba\n",
    "train_df, test_df = train_test_split(df, test_size=0.2, random_state=42)\n",
    "print(\"Dataset dividido en conjunto de entrenamiento y prueba.\")\n"
   ]
  },
  {
   "cell_type": "code",
   "execution_count": 7,
   "id": "535020df-a12c-42be-b6db-9713abf47ce8",
   "metadata": {},
   "outputs": [
    {
     "data": {
      "text/html": [
       "<div>\n",
       "<style scoped>\n",
       "    .dataframe tbody tr th:only-of-type {\n",
       "        vertical-align: middle;\n",
       "    }\n",
       "\n",
       "    .dataframe tbody tr th {\n",
       "        vertical-align: top;\n",
       "    }\n",
       "\n",
       "    .dataframe thead th {\n",
       "        text-align: right;\n",
       "    }\n",
       "</style>\n",
       "<table border=\"1\" class=\"dataframe\">\n",
       "  <thead>\n",
       "    <tr style=\"text-align: right;\">\n",
       "      <th></th>\n",
       "      <th>Type</th>\n",
       "      <th>Presence</th>\n",
       "      <th>Valency</th>\n",
       "      <th>Domain</th>\n",
       "    </tr>\n",
       "    <tr>\n",
       "      <th>Feature name</th>\n",
       "      <th></th>\n",
       "      <th></th>\n",
       "      <th></th>\n",
       "      <th></th>\n",
       "    </tr>\n",
       "  </thead>\n",
       "  <tbody>\n",
       "    <tr>\n",
       "      <th>'Elevation'</th>\n",
       "      <td>INT</td>\n",
       "      <td>required</td>\n",
       "      <td></td>\n",
       "      <td>-</td>\n",
       "    </tr>\n",
       "    <tr>\n",
       "      <th>'Aspect'</th>\n",
       "      <td>INT</td>\n",
       "      <td>required</td>\n",
       "      <td></td>\n",
       "      <td>-</td>\n",
       "    </tr>\n",
       "    <tr>\n",
       "      <th>'Slope'</th>\n",
       "      <td>INT</td>\n",
       "      <td>required</td>\n",
       "      <td></td>\n",
       "      <td>-</td>\n",
       "    </tr>\n",
       "    <tr>\n",
       "      <th>'Horizontal_Distance_To_Hydrology'</th>\n",
       "      <td>INT</td>\n",
       "      <td>required</td>\n",
       "      <td></td>\n",
       "      <td>-</td>\n",
       "    </tr>\n",
       "    <tr>\n",
       "      <th>'Vertical_Distance_To_Hydrology'</th>\n",
       "      <td>INT</td>\n",
       "      <td>required</td>\n",
       "      <td></td>\n",
       "      <td>-</td>\n",
       "    </tr>\n",
       "    <tr>\n",
       "      <th>'Horizontal_Distance_To_Roadways'</th>\n",
       "      <td>INT</td>\n",
       "      <td>required</td>\n",
       "      <td></td>\n",
       "      <td>-</td>\n",
       "    </tr>\n",
       "    <tr>\n",
       "      <th>'Hillshade_9am'</th>\n",
       "      <td>INT</td>\n",
       "      <td>required</td>\n",
       "      <td></td>\n",
       "      <td>-</td>\n",
       "    </tr>\n",
       "    <tr>\n",
       "      <th>'Hillshade_Noon'</th>\n",
       "      <td>INT</td>\n",
       "      <td>required</td>\n",
       "      <td></td>\n",
       "      <td>-</td>\n",
       "    </tr>\n",
       "    <tr>\n",
       "      <th>'Hillshade_3pm'</th>\n",
       "      <td>INT</td>\n",
       "      <td>required</td>\n",
       "      <td></td>\n",
       "      <td>-</td>\n",
       "    </tr>\n",
       "    <tr>\n",
       "      <th>'Horizontal_Distance_To_Fire_Points'</th>\n",
       "      <td>INT</td>\n",
       "      <td>required</td>\n",
       "      <td></td>\n",
       "      <td>-</td>\n",
       "    </tr>\n",
       "    <tr>\n",
       "      <th>'Wilderness_Area'</th>\n",
       "      <td>STRING</td>\n",
       "      <td>required</td>\n",
       "      <td></td>\n",
       "      <td>'Wilderness_Area'</td>\n",
       "    </tr>\n",
       "    <tr>\n",
       "      <th>'Soil_Type'</th>\n",
       "      <td>STRING</td>\n",
       "      <td>required</td>\n",
       "      <td></td>\n",
       "      <td>'Soil_Type'</td>\n",
       "    </tr>\n",
       "    <tr>\n",
       "      <th>'Cover_Type'</th>\n",
       "      <td>INT</td>\n",
       "      <td>required</td>\n",
       "      <td></td>\n",
       "      <td>-</td>\n",
       "    </tr>\n",
       "  </tbody>\n",
       "</table>\n",
       "</div>"
      ],
      "text/plain": [
       "                                        Type  Presence Valency  \\\n",
       "Feature name                                                     \n",
       "'Elevation'                              INT  required           \n",
       "'Aspect'                                 INT  required           \n",
       "'Slope'                                  INT  required           \n",
       "'Horizontal_Distance_To_Hydrology'       INT  required           \n",
       "'Vertical_Distance_To_Hydrology'         INT  required           \n",
       "'Horizontal_Distance_To_Roadways'        INT  required           \n",
       "'Hillshade_9am'                          INT  required           \n",
       "'Hillshade_Noon'                         INT  required           \n",
       "'Hillshade_3pm'                          INT  required           \n",
       "'Horizontal_Distance_To_Fire_Points'     INT  required           \n",
       "'Wilderness_Area'                     STRING  required           \n",
       "'Soil_Type'                           STRING  required           \n",
       "'Cover_Type'                             INT  required           \n",
       "\n",
       "                                                 Domain  \n",
       "Feature name                                             \n",
       "'Elevation'                                           -  \n",
       "'Aspect'                                              -  \n",
       "'Slope'                                               -  \n",
       "'Horizontal_Distance_To_Hydrology'                    -  \n",
       "'Vertical_Distance_To_Hydrology'                      -  \n",
       "'Horizontal_Distance_To_Roadways'                     -  \n",
       "'Hillshade_9am'                                       -  \n",
       "'Hillshade_Noon'                                      -  \n",
       "'Hillshade_3pm'                                       -  \n",
       "'Horizontal_Distance_To_Fire_Points'                  -  \n",
       "'Wilderness_Area'                     'Wilderness_Area'  \n",
       "'Soil_Type'                                 'Soil_Type'  \n",
       "'Cover_Type'                                          -  "
      ]
     },
     "metadata": {},
     "output_type": "display_data"
    },
    {
     "data": {
      "text/html": [
       "<div>\n",
       "<style scoped>\n",
       "    .dataframe tbody tr th:only-of-type {\n",
       "        vertical-align: middle;\n",
       "    }\n",
       "\n",
       "    .dataframe tbody tr th {\n",
       "        vertical-align: top;\n",
       "    }\n",
       "\n",
       "    .dataframe thead th {\n",
       "        text-align: right;\n",
       "    }\n",
       "</style>\n",
       "<table border=\"1\" class=\"dataframe\">\n",
       "  <thead>\n",
       "    <tr style=\"text-align: right;\">\n",
       "      <th></th>\n",
       "      <th>Values</th>\n",
       "    </tr>\n",
       "    <tr>\n",
       "      <th>Domain</th>\n",
       "      <th></th>\n",
       "    </tr>\n",
       "  </thead>\n",
       "  <tbody>\n",
       "    <tr>\n",
       "      <th>'Wilderness_Area'</th>\n",
       "      <td>'Cache', 'Commanche', 'Neota', 'Rawah'</td>\n",
       "    </tr>\n",
       "    <tr>\n",
       "      <th>'Soil_Type'</th>\n",
       "      <td>'C2702', 'C2703', 'C2704', 'C2705', 'C2706', 'C2717', 'C3501', 'C3502', 'C4201', 'C4703', 'C4704', 'C4744', 'C4758', 'C5101', 'C5151', 'C6101', 'C6102', 'C6731', 'C7101', 'C7102', 'C7103', 'C7201', 'C7202', 'C7700', 'C7701', 'C7702', 'C7709', 'C7710', 'C7745', 'C7746', 'C7755', 'C7756', 'C7757', 'C7790', 'C8703', 'C8707', 'C8708', 'C8771', 'C8772', 'C8776'</td>\n",
       "    </tr>\n",
       "  </tbody>\n",
       "</table>\n",
       "</div>"
      ],
      "text/plain": [
       "                                                                                                                                                                                                                                                                                                                                                                                   Values\n",
       "Domain                                                                                                                                                                                                                                                                                                                                                                                   \n",
       "'Wilderness_Area'                                                                                                                                                                                                                                                                                                                                  'Cache', 'Commanche', 'Neota', 'Rawah'\n",
       "'Soil_Type'        'C2702', 'C2703', 'C2704', 'C2705', 'C2706', 'C2717', 'C3501', 'C3502', 'C4201', 'C4703', 'C4704', 'C4744', 'C4758', 'C5101', 'C5151', 'C6101', 'C6102', 'C6731', 'C7101', 'C7102', 'C7103', 'C7201', 'C7202', 'C7700', 'C7701', 'C7702', 'C7709', 'C7710', 'C7745', 'C7746', 'C7755', 'C7756', 'C7757', 'C7790', 'C8703', 'C8707', 'C8708', 'C8771', 'C8772', 'C8776'"
      ]
     },
     "metadata": {},
     "output_type": "display_data"
    },
    {
     "name": "stdout",
     "output_type": "stream",
     "text": [
      "Esquema inferido y mostrado.\n"
     ]
    }
   ],
   "source": [
    "# 4. Identificar esquemas de datos\n",
    "schema = tfdv.infer_schema(stats)\n",
    "tfdv.display_schema(schema)\n",
    "print(\"Esquema inferido y mostrado.\")\n"
   ]
  },
  {
   "cell_type": "code",
   "execution_count": 8,
   "id": "62f092a8-d638-4c08-aeb0-a1b9d6a2824a",
   "metadata": {},
   "outputs": [
    {
     "data": {
      "text/html": [
       "<h4 style=\"color:green;\">No anomalies found.</h4>"
      ],
      "text/plain": [
       "<IPython.core.display.HTML object>"
      ]
     },
     "metadata": {},
     "output_type": "display_data"
    },
    {
     "name": "stdout",
     "output_type": "stream",
     "text": [
      "Anomalías detectadas y visualizadas.\n"
     ]
    }
   ],
   "source": [
    "# 5. Detectar anomalías en los datos\n",
    "anomalies = tfdv.validate_statistics(stats, schema)\n",
    "tfdv.display_anomalies(anomalies)\n",
    "print(\"Anomalías detectadas y visualizadas.\")"
   ]
  },
  {
   "cell_type": "code",
   "execution_count": 9,
   "id": "ca147716-245b-4e9e-a7ef-17bbc5cb7b2d",
   "metadata": {},
   "outputs": [
    {
     "name": "stdout",
     "output_type": "stream",
     "text": [
      "Transformaciones definidas.\n"
     ]
    }
   ],
   "source": [
    "# 6. Aplicar transformaciones con TFT\n",
    "def preprocessing_fn(inputs):\n",
    "    outputs = {}\n",
    "    outputs['normalized_feature'] = tft.scale_to_z_score(inputs['feature_column'])\n",
    "    return outputs\n",
    "print(\"Transformaciones definidas.\")"
   ]
  },
  {
   "cell_type": "code",
   "execution_count": 11,
   "id": "01f6e5a0-1270-442b-8798-b99188b4e444",
   "metadata": {},
   "outputs": [
    {
     "name": "stdout",
     "output_type": "stream",
     "text": [
      "Conjuntos de datos preprocesados guardados correctamente.\n",
      "Procesamiento completado con éxito.\n"
     ]
    }
   ],
   "source": [
    "# 7. Guardar dataset preprocesado\n",
    "train_df.to_csv('./data/covertype/train_preprocessed.csv', index=False)\n",
    "test_df.to_csv('./data/covertype/test_preprocessed.csv', index=False)\n",
    "print(\"Conjuntos de datos preprocesados guardados correctamente.\")\n",
    "\n",
    "print(\"Procesamiento completado con éxito.\")\n"
   ]
  },
  {
   "cell_type": "code",
   "execution_count": null,
   "id": "c48c69aa-3cd7-417c-86f3-8f644cd396a0",
   "metadata": {},
   "outputs": [],
   "source": []
  }
 ],
 "metadata": {
  "kernelspec": {
   "display_name": "Python 3 (ipykernel)",
   "language": "python",
   "name": "python3"
  },
  "language_info": {
   "codemirror_mode": {
    "name": "ipython",
    "version": 3
   },
   "file_extension": ".py",
   "mimetype": "text/x-python",
   "name": "python",
   "nbconvert_exporter": "python",
   "pygments_lexer": "ipython3",
   "version": "3.11.6"
  }
 },
 "nbformat": 4,
 "nbformat_minor": 5
}
